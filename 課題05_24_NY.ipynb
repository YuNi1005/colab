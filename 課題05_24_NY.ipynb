{
  "nbformat": 4,
  "nbformat_minor": 0,
  "metadata": {
    "colab": {
      "provenance": [],
      "include_colab_link": true
    },
    "kernelspec": {
      "name": "python3",
      "display_name": "Python 3"
    },
    "language_info": {
      "name": "python"
    }
  },
  "cells": [
    {
      "cell_type": "markdown",
      "metadata": {
        "id": "view-in-github",
        "colab_type": "text"
      },
      "source": [
        "<a href=\"https://colab.research.google.com/github/YuNi1005/colab/blob/main/%E8%AA%B2%E9%A1%8C05_24_NY.ipynb\" target=\"_parent\"><img src=\"https://colab.research.google.com/assets/colab-badge.svg\" alt=\"Open In Colab\"/></a>"
      ]
    },
    {
      "cell_type": "markdown",
      "source": [
        "# **プログラムの名称：スロットゲーム**\n",
        "\n",
        "## **概要**\n",
        "\n",
        "このプログラムでは、スロットを模したものを作成しました。\n",
        "リールを回してあたりの判定をするプログラムになっています。\n",
        "\n",
        "## **操作方法**\n",
        "\n",
        "プログラムの実行は上から順に実行してください。\n",
        "\n",
        "## **制作者のコメント**\n",
        "\n",
        "確率の設定などの細かいところまで作りこめなかったので、概要しかできなかったことが反省点です。また何かのプログラムを作る時までには、自分の実力をあげてより高度で簡潔に簡潔にまとめられるようになりたいと思いました。\n",
        "\n",
        "## **作成時間**\n",
        "\n",
        "作成時間：**約18時間**\n"
      ],
      "metadata": {
        "id": "BNb7I1FCMlFJ"
      }
    },
    {
      "cell_type": "code",
      "source": [
        "#@title 初期化 ( %reset -f )\n",
        "%reset -f"
      ],
      "metadata": {
        "id": "NGuL7doEPtzI"
      },
      "execution_count": null,
      "outputs": []
    },
    {
      "cell_type": "code",
      "source": [
        "#@title サブ１\n",
        "import random\n",
        "import time\n",
        "from IPython.display import clear_output\n",
        "BET = 3\n",
        "coin = 50\n",
        "cherry_win_1 = False\n",
        "cherry_win_2 = False\n",
        "grape_win = False\n",
        "clown_win = False\n",
        "bell_win = False\n",
        "big_win = False\n",
        "reg_win = False\n",
        "left = []\n",
        "center = []\n",
        "right = []\n",
        "\n",
        "reel_1 = [' bell ','   7   ',' grape ',' grape ','  BAR  ','cherry',' grape ',' grape ',\n",
        "          '   7   ',' clown ',' grape ',' grape ','cherry','  BAR  ',' grape ',' grape ',' bell ','   7   ']\n",
        "reel_2 = ['   7   ',' grape ','cherry',' bell ',' grape ','cherry','  BAR  ',' grape ',\n",
        "          'cherry',' bell ',' grape ','cherry','  BAR  ',' grape ','cherry',' clown ','   7   ']\n",
        "reel_3 = [' grape ','   7   ','  BAR  ',' bell ',' grape ',' clown ',' bell ',' grape ',' clown ',\n",
        "          ' bell ',' grape ',' clown ',' bell ',' grape ',' clown ',' bell ',' grape ','   7   ']"
      ],
      "metadata": {
        "id": "mrFGdchoP2dL"
      },
      "execution_count": null,
      "outputs": []
    },
    {
      "cell_type": "code",
      "source": [
        "#@title サブ２（関数定義）\n",
        "def spin():\n",
        "    global coin\n",
        "    global BET\n",
        "    global left\n",
        "    global center\n",
        "    global right\n",
        "    global reel_1\n",
        "    global reel_2\n",
        "    global reel_3\n",
        "    coin = coin - BET\n",
        "    i = random.randint(0, 15)\n",
        "    j = random.randint(0, 14)\n",
        "    k = random.randint(0, 15)\n",
        "    left.clear()\n",
        "    center.clear()\n",
        "    right.clear()\n",
        "    for i in range(i, i + 3):\n",
        "        left.append(reel_1[i])\n",
        "    for j in range(j, j + 3):\n",
        "        center.append(reel_2[j])\n",
        "    for k in range(k, k + 3):\n",
        "        right.append(reel_3[k])\n",
        "    return left, center, right\n",
        "\n",
        "\n",
        "def check_win():\n",
        "  global cherry_win_1\n",
        "  global cherry_win_2\n",
        "  global grape_win\n",
        "  global clown_win\n",
        "  global bell_win\n",
        "  global big_win\n",
        "  global reg_win\n",
        "  if(left[0]=='cherry' or left[2]=='cherry'):\n",
        "    cherry_win_1 = True\n",
        "  elif (left[1]=='cherry'):\n",
        "    cherry_win_2 = True\n",
        "\n",
        "  if any([left[0] == center[0] == right[0] == 'grape' ,\n",
        "          left[1] == center[1] == right[1] == 'grape' ,\n",
        "          left[2] == center[2] == right[2] == 'grape' ,\n",
        "          left[0] == center[1] == right[2] == 'grape' ,\n",
        "          left[2] == center[1] == right[0] == 'grape']):\n",
        "      grape_win = True\n",
        "\n",
        "  if any([reel_1[0] == reel_2[0] == reel_3[0] == ' clown ' ,\n",
        "          reel_1[1] == reel_2[1] == reel_3[1] == ' clown ' ,\n",
        "          reel_1[2] == reel_2[2] == reel_3[2] == ' clown ' ,\n",
        "          reel_1[0] == reel_2[1] == reel_3[2] == ' clown ' ,\n",
        "          reel_1[2] == reel_2[1] == reel_3[0] == ' clown ']):\n",
        "      clown_win = True\n",
        "\n",
        "  if any([reel_1[0] == reel_2[0] == reel_3[0] == ' bell ' ,\n",
        "          reel_1[1] == reel_2[1] == reel_3[1] == ' bell ' ,\n",
        "          reel_1[2] == reel_2[2] == reel_3[2] == ' bell ' ,\n",
        "          reel_1[0] == reel_2[1] == reel_3[2] == ' bell ' ,\n",
        "          reel_1[2] == reel_2[1] == reel_3[0] == ' bell ']):\n",
        "      bell_win = True\n",
        "\n",
        "  if any([reel_1[0] == reel_2[0] == reel_3[0] == '   7   ' ,\n",
        "          reel_1[1] == reel_2[1] == reel_3[1] == '   7   ' ,\n",
        "          reel_1[2] == reel_2[2] == reel_3[2] == '   7   ' ,\n",
        "          reel_1[0] == reel_2[1] == reel_3[2] == '   7   ' ,\n",
        "          reel_1[2] == reel_2[1] == reel_3[0] == '   7   ' ,]):\n",
        "      big_win = True\n",
        "\n",
        "  if any([reel_1[0] == reel_2[0] == '   7   ' and reel_3[0] == '  BAR  ' ,\n",
        "          reel_1[1] == reel_2[1] == '   7   ' and reel_3[1] == '  BAR  ' ,\n",
        "          reel_1[2] == reel_2[2] == '   7   ' and reel_3[2] == '  BAR  ' ,\n",
        "          reel_1[0] == reel_2[1] == '   7   ' and reel_3[2] == '  BAR  ' ,\n",
        "          reel_1[2] == reel_2[1] == '   7   ' and reel_3[0] == '  BAR  ']):\n",
        "      reg_win = True\n",
        "\n",
        "def payout():\n",
        "  global coin\n",
        "  global BET\n",
        "  global cherry_win_1\n",
        "  global cherry_win_2\n",
        "  global grape_win\n",
        "  global clown_win\n",
        "  global bell_win\n",
        "  global big_win\n",
        "  global reg_win\n",
        "  if((grape_win == True and cherry_win_1== True) or (grape_win == True and cherry_win_2== True)):\n",
        "    coin += 8\n",
        "  elif cherry_win_1 == True:\n",
        "    coin += 2\n",
        "  elif cherry_win_2 == True:\n",
        "    coin += 1\n",
        "  elif grape_win == True:\n",
        "    coin += 8\n",
        "  else :\n",
        "    pass\n",
        "\n",
        "  if clown_win == True:\n",
        "    coin += 10\n",
        "  else :\n",
        "    pass\n",
        "\n",
        "  if bell_win == True:\n",
        "    coin += 14\n",
        "  else :\n",
        "    pass\n",
        "\n",
        "  if big_win == True:\n",
        "    coin += 294\n",
        "  else :\n",
        "    pass\n",
        "\n",
        "  if reg_win == True:\n",
        "    coin += 112\n",
        "  else :\n",
        "    pass\n",
        "\n",
        "  return coin"
      ],
      "metadata": {
        "cellView": "form",
        "id": "P2vsV4VwuCJP"
      },
      "execution_count": null,
      "outputs": []
    },
    {
      "cell_type": "code",
      "source": [
        "while coin > 0:\n",
        "  spin()\n",
        "  check_win()\n",
        "  print(f'{left[0].ljust(7)}:{center[0].center(8)}:{right[0].rjust(7)}')\n",
        "  print(f'{left[1].ljust(7)}:{center[1].center(8)}:{right[1].rjust(7)}')\n",
        "  print(f'{left[2].ljust(7)}:{center[2].center(8)}:{right[2].rjust(7)}')\n",
        "  payout()\n",
        "  print(coin)\n",
        "\n",
        "  time.sleep(3)\n",
        "  clear_output()"
      ],
      "metadata": {
        "colab": {
          "base_uri": "https://localhost:8080/"
        },
        "id": "3hbrnlgjPcf4",
        "outputId": "3ef83eb4-9842-4b06-ad2d-79dc8d70b1ab"
      },
      "execution_count": null,
      "outputs": [
        {
          "output_type": "stream",
          "name": "stdout",
          "text": [
            "cherry : cherry :  bell \n",
            "  BAR  :  bell  : grape \n",
            " grape : grape  : clown \n",
            "27\n"
          ]
        }
      ]
    }
  ]
}